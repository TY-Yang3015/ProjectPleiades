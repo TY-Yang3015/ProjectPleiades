{
 "cells": [
  {
   "cell_type": "code",
   "execution_count": 1,
   "id": "ab7b071b-aa72-4ea9-a99b-86594c202dbd",
   "metadata": {
    "ExecuteTime": {
     "end_time": "2024-06-18T09:49:13.498064Z",
     "start_time": "2024-06-18T09:49:10.008208Z"
    }
   },
   "outputs": [
    {
     "name": "stdout",
     "output_type": "stream",
     "text": [
      "2.16.1\n"
     ]
    }
   ],
   "source": [
    "import tensorflow as tf\n",
    "import matplotlib.pyplot as plt\n",
    "import numpy as np"
   ]
  },
  {
   "cell_type": "code",
   "outputs": [],
   "source": [
    "from src.models.ddpm_benchmark import DiffusionModel\n",
    "from DiffusionModel import DiffusionModel\n",
    "from DiffusionNN import DiffusionNN\n",
    "from DiffusionLoss import sse"
   ],
   "metadata": {
    "collapsed": false,
    "ExecuteTime": {
     "end_time": "2024-06-17T09:07:27.270931Z",
     "start_time": "2024-06-17T09:07:27.222641Z"
    }
   },
   "id": "80202ac1a6e593d2",
   "execution_count": 2
  },
  {
   "cell_type": "code",
   "execution_count": 3,
   "id": "d1938e43-0bcd-4358-9f58-be9172040f0e",
   "metadata": {
    "ExecuteTime": {
     "end_time": "2024-06-17T09:07:27.482382Z",
     "start_time": "2024-06-17T09:07:27.271530Z"
    }
   },
   "outputs": [],
   "source": [
    "fashion_mnist = tf.keras.datasets.fashion_mnist\n",
    "(train_images, train_labels), (test_images, test_labels) = fashion_mnist.load_data()\n",
    "train_images = train_images[train_labels == 9]"
   ]
  },
  {
   "cell_type": "code",
   "execution_count": 4,
   "id": "3dd53f3f-4b14-4480-81ab-3da1f19a4def",
   "metadata": {},
   "outputs": [
    {
     "ename": "KeyboardInterrupt",
     "evalue": "",
     "output_type": "error",
     "traceback": [
      "\u001B[0;31m---------------------------------------------------------------------------\u001B[0m",
      "\u001B[0;31mKeyboardInterrupt\u001B[0m                         Traceback (most recent call last)",
      "Cell \u001B[0;32mIn[4], line 10\u001B[0m\n\u001B[1;32m      7\u001B[0m optimiser \u001B[38;5;241m=\u001B[39m tf\u001B[38;5;241m.\u001B[39mkeras\u001B[38;5;241m.\u001B[39moptimizers\u001B[38;5;241m.\u001B[39mAdam(learning_rate\u001B[38;5;241m=\u001B[39mlearning_schedule)\n\u001B[1;32m      9\u001B[0m diffusor \u001B[38;5;241m=\u001B[39m DiffusionModel(model, train_images[:\u001B[38;5;241m100\u001B[39m], sse, optimiser)\n\u001B[0;32m---> 10\u001B[0m \u001B[43mdiffusor\u001B[49m\u001B[38;5;241;43m.\u001B[39;49m\u001B[43mset_beta_schedule\u001B[49m\u001B[43m(\u001B[49m\u001B[43mschedule\u001B[49m\u001B[43m)\u001B[49m\u001B[38;5;241;43m.\u001B[39;49m\u001B[43mtrain\u001B[49m\u001B[43m(\u001B[49m\u001B[38;5;241;43m1000\u001B[39;49m\u001B[43m,\u001B[49m\u001B[43m \u001B[49m\u001B[43mdisp_freq\u001B[49m\u001B[38;5;241;43m=\u001B[39;49m\u001B[38;5;241;43m1\u001B[39;49m\u001B[43m)\u001B[49m\n",
      "File \u001B[0;32m~/Desktop/DiffusionTest/DiffusionModel.py:72\u001B[0m, in \u001B[0;36mDiffusionModel.train\u001B[0;34m(self, train_step, disp_freq)\u001B[0m\n\u001B[1;32m     66\u001B[0m \u001B[38;5;28;01mdef\u001B[39;00m \u001B[38;5;21mtrain\u001B[39m(\u001B[38;5;28mself\u001B[39m,\n\u001B[1;32m     67\u001B[0m           train_step: \u001B[38;5;28mint\u001B[39m,\n\u001B[1;32m     68\u001B[0m           disp_freq: \u001B[38;5;28mint\u001B[39m \u001B[38;5;241m=\u001B[39m \u001B[38;5;241m1\u001B[39m\n\u001B[1;32m     69\u001B[0m           ):\n\u001B[1;32m     71\u001B[0m     \u001B[38;5;28;01mfor\u001B[39;00m step \u001B[38;5;129;01min\u001B[39;00m \u001B[38;5;28mrange\u001B[39m(train_step):\n\u001B[0;32m---> 72\u001B[0m         train_loss \u001B[38;5;241m=\u001B[39m \u001B[38;5;28;43mself\u001B[39;49m\u001B[38;5;241;43m.\u001B[39;49m\u001B[43m_train_step\u001B[49m\u001B[43m(\u001B[49m\u001B[43m)\u001B[49m\n\u001B[1;32m     74\u001B[0m         \u001B[38;5;28;01mif\u001B[39;00m step \u001B[38;5;241m%\u001B[39m disp_freq \u001B[38;5;241m==\u001B[39m \u001B[38;5;241m0\u001B[39m:\n\u001B[1;32m     75\u001B[0m             \u001B[38;5;28mprint\u001B[39m(\u001B[38;5;124m'\u001B[39m\u001B[38;5;124mstep: \u001B[39m\u001B[38;5;132;01m{}\u001B[39;00m\u001B[38;5;124m;  train elbo: \u001B[39m\u001B[38;5;132;01m{}\u001B[39;00m\u001B[38;5;124m;\u001B[39m\u001B[38;5;124m'\u001B[39m\u001B[38;5;241m.\u001B[39mformat(step\n\u001B[1;32m     76\u001B[0m                                                       , train_loss))\n",
      "File \u001B[0;32m~/Desktop/DiffusionTest/DiffusionModel.py:53\u001B[0m, in \u001B[0;36mDiffusionModel._train_step\u001B[0;34m(self)\u001B[0m\n\u001B[1;32m     51\u001B[0m z_t, noise \u001B[38;5;241m=\u001B[39m \u001B[38;5;28mself\u001B[39m\u001B[38;5;241m.\u001B[39mforward_diffusion(\u001B[38;5;28mself\u001B[39m\u001B[38;5;241m.\u001B[39mdataset, t \u001B[38;5;241m-\u001B[39m \u001B[38;5;241m1\u001B[39m)\n\u001B[1;32m     52\u001B[0m t \u001B[38;5;241m=\u001B[39m tf\u001B[38;5;241m.\u001B[39mconvert_to_tensor([t], dtype\u001B[38;5;241m=\u001B[39mtf\u001B[38;5;241m.\u001B[39mint32)\n\u001B[0;32m---> 53\u001B[0m t_emb \u001B[38;5;241m=\u001B[39m \u001B[43mget_timestep_embedding\u001B[49m\u001B[43m(\u001B[49m\u001B[43mtf\u001B[49m\u001B[38;5;241;43m.\u001B[39;49m\u001B[43mcast\u001B[49m\u001B[43m(\u001B[49m\u001B[43mt\u001B[49m\u001B[43m,\u001B[49m\u001B[43m \u001B[49m\u001B[43mtf\u001B[49m\u001B[38;5;241;43m.\u001B[39;49m\u001B[43mfloat32\u001B[49m\u001B[43m)\u001B[49m\u001B[43m,\u001B[49m\u001B[43m \u001B[49m\u001B[38;5;241;43m32\u001B[39;49m\u001B[43m)\u001B[49m\n\u001B[1;32m     54\u001B[0m pred_noise \u001B[38;5;241m=\u001B[39m \u001B[38;5;28mself\u001B[39m\u001B[38;5;241m.\u001B[39mmodel([z_t, t_emb], training\u001B[38;5;241m=\u001B[39m\u001B[38;5;28;01mTrue\u001B[39;00m)\n\u001B[1;32m     55\u001B[0m loss \u001B[38;5;241m+\u001B[39m\u001B[38;5;241m=\u001B[39m \u001B[38;5;28mself\u001B[39m\u001B[38;5;241m.\u001B[39mloss_fn(noise, pred_noise)\n",
      "File \u001B[0;32m~/Desktop/DiffusionTest/DiffusionNN.py:8\u001B[0m, in \u001B[0;36mget_timestep_embedding\u001B[0;34m(timesteps, embedding_dim)\u001B[0m\n\u001B[1;32m      6\u001B[0m half_dim \u001B[38;5;241m=\u001B[39m embedding_dim \u001B[38;5;241m/\u001B[39m\u001B[38;5;241m/\u001B[39m \u001B[38;5;241m2\u001B[39m\n\u001B[1;32m      7\u001B[0m emb \u001B[38;5;241m=\u001B[39m tf\u001B[38;5;241m.\u001B[39mmath\u001B[38;5;241m.\u001B[39mlog(\u001B[38;5;241m10000.\u001B[39m) \u001B[38;5;241m/\u001B[39m (half_dim \u001B[38;5;241m-\u001B[39m \u001B[38;5;241m1\u001B[39m)\n\u001B[0;32m----> 8\u001B[0m emb \u001B[38;5;241m=\u001B[39m \u001B[43mtf\u001B[49m\u001B[38;5;241;43m.\u001B[39;49m\u001B[43mmath\u001B[49m\u001B[38;5;241;43m.\u001B[39;49m\u001B[43mexp\u001B[49m\u001B[43m(\u001B[49m\u001B[43mnp\u001B[49m\u001B[38;5;241;43m.\u001B[39;49m\u001B[43marange\u001B[49m\u001B[43m(\u001B[49m\u001B[43mhalf_dim\u001B[49m\u001B[43m)\u001B[49m\u001B[43m \u001B[49m\u001B[38;5;241;43m*\u001B[39;49m\u001B[43m \u001B[49m\u001B[38;5;241;43m-\u001B[39;49m\u001B[43memb\u001B[49m\u001B[43m)\u001B[49m\n\u001B[1;32m      9\u001B[0m emb \u001B[38;5;241m=\u001B[39m timesteps[:, \u001B[38;5;28;01mNone\u001B[39;00m] \u001B[38;5;241m*\u001B[39m emb[\u001B[38;5;28;01mNone\u001B[39;00m, :]\n\u001B[1;32m     10\u001B[0m emb \u001B[38;5;241m=\u001B[39m tf\u001B[38;5;241m.\u001B[39mconcat([tf\u001B[38;5;241m.\u001B[39mmath\u001B[38;5;241m.\u001B[39msin(emb), tf\u001B[38;5;241m.\u001B[39mmath\u001B[38;5;241m.\u001B[39mcos(emb)], axis\u001B[38;5;241m=\u001B[39m\u001B[38;5;241m1\u001B[39m)\n",
      "File \u001B[0;32m~/anaconda3/envs/JAX/lib/python3.11/site-packages/tensorflow/python/ops/weak_tensor_ops.py:88\u001B[0m, in \u001B[0;36mweak_tensor_unary_op_wrapper.<locals>.wrapper\u001B[0;34m(*args, **kwargs)\u001B[0m\n\u001B[1;32m     86\u001B[0m \u001B[38;5;28;01mdef\u001B[39;00m \u001B[38;5;21mwrapper\u001B[39m(\u001B[38;5;241m*\u001B[39margs, \u001B[38;5;241m*\u001B[39m\u001B[38;5;241m*\u001B[39mkwargs):\n\u001B[1;32m     87\u001B[0m   \u001B[38;5;28;01mif\u001B[39;00m \u001B[38;5;129;01mnot\u001B[39;00m ops\u001B[38;5;241m.\u001B[39mis_auto_dtype_conversion_enabled():\n\u001B[0;32m---> 88\u001B[0m     \u001B[38;5;28;01mreturn\u001B[39;00m \u001B[43mop\u001B[49m\u001B[43m(\u001B[49m\u001B[38;5;241;43m*\u001B[39;49m\u001B[43margs\u001B[49m\u001B[43m,\u001B[49m\u001B[43m \u001B[49m\u001B[38;5;241;43m*\u001B[39;49m\u001B[38;5;241;43m*\u001B[39;49m\u001B[43mkwargs\u001B[49m\u001B[43m)\u001B[49m\n\u001B[1;32m     89\u001B[0m   bound_arguments \u001B[38;5;241m=\u001B[39m signature\u001B[38;5;241m.\u001B[39mbind(\u001B[38;5;241m*\u001B[39margs, \u001B[38;5;241m*\u001B[39m\u001B[38;5;241m*\u001B[39mkwargs)\n\u001B[1;32m     90\u001B[0m   bound_arguments\u001B[38;5;241m.\u001B[39mapply_defaults()\n",
      "File \u001B[0;32m~/anaconda3/envs/JAX/lib/python3.11/site-packages/tensorflow/python/util/traceback_utils.py:150\u001B[0m, in \u001B[0;36mfilter_traceback.<locals>.error_handler\u001B[0;34m(*args, **kwargs)\u001B[0m\n\u001B[1;32m    148\u001B[0m filtered_tb \u001B[38;5;241m=\u001B[39m \u001B[38;5;28;01mNone\u001B[39;00m\n\u001B[1;32m    149\u001B[0m \u001B[38;5;28;01mtry\u001B[39;00m:\n\u001B[0;32m--> 150\u001B[0m   \u001B[38;5;28;01mreturn\u001B[39;00m \u001B[43mfn\u001B[49m\u001B[43m(\u001B[49m\u001B[38;5;241;43m*\u001B[39;49m\u001B[43margs\u001B[49m\u001B[43m,\u001B[49m\u001B[43m \u001B[49m\u001B[38;5;241;43m*\u001B[39;49m\u001B[38;5;241;43m*\u001B[39;49m\u001B[43mkwargs\u001B[49m\u001B[43m)\u001B[49m\n\u001B[1;32m    151\u001B[0m \u001B[38;5;28;01mexcept\u001B[39;00m \u001B[38;5;167;01mException\u001B[39;00m \u001B[38;5;28;01mas\u001B[39;00m e:\n\u001B[1;32m    152\u001B[0m   filtered_tb \u001B[38;5;241m=\u001B[39m _process_traceback_frames(e\u001B[38;5;241m.\u001B[39m__traceback__)\n",
      "File \u001B[0;32m~/anaconda3/envs/JAX/lib/python3.11/site-packages/tensorflow/python/util/dispatch.py:1254\u001B[0m, in \u001B[0;36madd_dispatch_support.<locals>.decorator.<locals>.op_dispatch_handler\u001B[0;34m(*args, **kwargs)\u001B[0m\n\u001B[1;32m   1252\u001B[0m \u001B[38;5;28;01mif\u001B[39;00m iterable_params \u001B[38;5;129;01mis\u001B[39;00m \u001B[38;5;129;01mnot\u001B[39;00m \u001B[38;5;28;01mNone\u001B[39;00m:\n\u001B[1;32m   1253\u001B[0m   args, kwargs \u001B[38;5;241m=\u001B[39m replace_iterable_params(args, kwargs, iterable_params)\n\u001B[0;32m-> 1254\u001B[0m result \u001B[38;5;241m=\u001B[39m \u001B[43mapi_dispatcher\u001B[49m\u001B[38;5;241;43m.\u001B[39;49m\u001B[43mDispatch\u001B[49m\u001B[43m(\u001B[49m\u001B[43margs\u001B[49m\u001B[43m,\u001B[49m\u001B[43m \u001B[49m\u001B[43mkwargs\u001B[49m\u001B[43m)\u001B[49m\n\u001B[1;32m   1255\u001B[0m \u001B[38;5;28;01mif\u001B[39;00m result \u001B[38;5;129;01mis\u001B[39;00m \u001B[38;5;129;01mnot\u001B[39;00m \u001B[38;5;28mNotImplemented\u001B[39m:\n\u001B[1;32m   1256\u001B[0m   \u001B[38;5;28;01mreturn\u001B[39;00m result\n",
      "\u001B[0;31mKeyboardInterrupt\u001B[0m: "
     ]
    }
   ],
   "source": [
    "schedule = linear_schedule(2000, 0, 0.999)\n",
    "model = DiffusionNN()\n",
    "\n",
    "decays = [2000, 3000, 4000, 5000]\n",
    "rates = [1e-5, 1e-6, 1e-7, 1e-8, 1e-9]\n",
    "learning_schedule = tf.keras.optimizers.schedules.PiecewiseConstantDecay(decays, rates)\n",
    "optimiser = tf.keras.optimizers.Adam(learning_rate=learning_schedule)\n",
    "\n",
    "diffusor = DiffusionModel(model, train_images[:100], sse, optimiser)\n",
    "diffusor.set_beta_schedule(schedule).train(1000, disp_freq=1)"
   ]
  },
  {
   "cell_type": "code",
   "execution_count": 28,
   "id": "d407cc8e-640f-494d-a955-9aa7babcdd41",
   "metadata": {
    "ExecuteTime": {
     "end_time": "2024-06-17T09:00:09.785507Z",
     "start_time": "2024-06-17T09:00:09.780605Z"
    }
   },
   "outputs": [],
   "source": [
    "c = tf.tile(train_images[:2].reshape(2, 28, 28, 1), [2, 1, 1, 1])"
   ]
  },
  {
   "cell_type": "code",
   "outputs": [
    {
     "data": {
      "text/plain": "<matplotlib.image.AxesImage at 0x47f4ac9d0>"
     },
     "execution_count": 35,
     "metadata": {},
     "output_type": "execute_result"
    },
    {
     "data": {
      "text/plain": "<Figure size 640x480 with 1 Axes>",
      "image/png": "[encoded data removed]"
     },
     "metadata": {},
     "output_type": "display_data"
    }
   ],
   "source": [
    "plt.imshow(c[3].numpy().reshape(28, 28))"
   ],
   "metadata": {
    "collapsed": false,
    "ExecuteTime": {
     "end_time": "2024-06-17T09:00:49.310592Z",
     "start_time": "2024-06-17T09:00:49.250832Z"
    }
   },
   "id": "f4d5fa1db8b21c9f",
   "execution_count": 35
  },
  {
   "cell_type": "code",
   "outputs": [
    {
     "data": {
      "text/plain": "<tf.Tensor: shape=(28, 28, 1), dtype=uint8, numpy=\narray([[[  0],\n        [  0],\n        [  0],\n        [  0],\n        [  0],\n        [  0],\n        [  0],\n        [  0],\n        [  0],\n        [  0],\n        [  0],\n        [  0],\n        [  0],\n        [  0],\n        [  0],\n        [  0],\n        [  0],\n        [  0],\n        [  0],\n        [  0],\n        [  0],\n        [  0],\n        [  0],\n        [  0],\n        [  0],\n        [  0],\n        [  0],\n        [  0]],\n\n       [[  0],\n        [  0],\n        [  0],\n        [  0],\n        [  0],\n        [  0],\n        [  0],\n        [  0],\n        [  0],\n        [  0],\n        [  0],\n        [  0],\n        [  0],\n        [  0],\n        [  0],\n        [  0],\n        [  0],\n        [  0],\n        [  0],\n        [  0],\n        [  0],\n        [  0],\n        [  0],\n        [  0],\n        [  0],\n        [  0],\n        [  0],\n        [  0]],\n\n       [[  0],\n        [  0],\n        [  0],\n        [  0],\n        [  0],\n        [  0],\n        [  0],\n        [  0],\n        [  0],\n        [  0],\n        [  0],\n        [  0],\n        [  0],\n        [  0],\n        [  0],\n        [  0],\n        [  0],\n        [  0],\n        [  0],\n        [  0],\n        [  0],\n        [  0],\n        [  0],\n        [  0],\n        [  0],\n        [  0],\n        [  0],\n        [  0]],\n\n       [[  0],\n        [  0],\n        [  0],\n        [  0],\n        [  0],\n        [  0],\n        [  0],\n        [  0],\n        [  0],\n        [  0],\n        [  0],\n        [  0],\n        [  1],\n        [  0],\n        [  0],\n        [ 13],\n        [ 73],\n        [  0],\n        [  0],\n        [  1],\n        [  4],\n        [  0],\n        [  0],\n        [  0],\n        [  0],\n        [  1],\n        [  1],\n        [  0]],\n\n       [[  0],\n        [  0],\n        [  0],\n        [  0],\n        [  0],\n        [  0],\n        [  0],\n        [  0],\n        [  0],\n        [  0],\n        [  0],\n        [  0],\n        [  3],\n        [  0],\n        [ 36],\n        [136],\n        [127],\n        [ 62],\n        [ 54],\n        [  0],\n        [  0],\n        [  0],\n        [  1],\n        [  3],\n        [  4],\n        [  0],\n        [  0],\n        [  3]],\n\n       [[  0],\n        [  0],\n        [  0],\n        [  0],\n        [  0],\n        [  0],\n        [  0],\n        [  0],\n        [  0],\n        [  0],\n        [  0],\n        [  0],\n        [  6],\n        [  0],\n        [102],\n        [204],\n        [176],\n        [134],\n        [144],\n        [123],\n        [ 23],\n        [  0],\n        [  0],\n        [  0],\n        [  0],\n        [ 12],\n        [ 10],\n        [  0]],\n\n       [[  0],\n        [  0],\n        [  0],\n        [  0],\n        [  0],\n        [  0],\n        [  0],\n        [  0],\n        [  0],\n        [  0],\n        [  0],\n        [  0],\n        [  0],\n        [  0],\n        [155],\n        [236],\n        [207],\n        [178],\n        [107],\n        [156],\n        [161],\n        [109],\n        [ 64],\n        [ 23],\n        [ 77],\n        [130],\n        [ 72],\n        [ 15]],\n\n       [[  0],\n        [  0],\n        [  0],\n        [  0],\n        [  0],\n        [  0],\n        [  0],\n        [  0],\n        [  0],\n        [  0],\n        [  0],\n        [  1],\n        [  0],\n        [ 69],\n        [207],\n        [223],\n        [218],\n        [216],\n        [216],\n        [163],\n        [127],\n        [121],\n        [122],\n        [146],\n        [141],\n        [ 88],\n        [172],\n        [ 66]],\n\n       [[  0],\n        [  0],\n        [  0],\n        [  0],\n        [  0],\n        [  0],\n        [  0],\n        [  0],\n        [  0],\n        [  1],\n        [  1],\n        [  1],\n        [  0],\n        [200],\n        [232],\n        [232],\n        [233],\n        [229],\n        [223],\n        [223],\n        [215],\n        [213],\n        [164],\n        [127],\n        [123],\n        [196],\n        [229],\n        [  0]],\n\n       [[  0],\n        [  0],\n        [  0],\n        [  0],\n        [  0],\n        [  0],\n        [  0],\n        [  0],\n        [  0],\n        [  0],\n        [  0],\n        [  0],\n        [  0],\n        [183],\n        [225],\n        [216],\n        [223],\n        [228],\n        [235],\n        [227],\n        [224],\n        [222],\n        [224],\n        [221],\n        [223],\n        [245],\n        [173],\n        [  0]],\n\n       [[  0],\n        [  0],\n        [  0],\n        [  0],\n        [  0],\n        [  0],\n        [  0],\n        [  0],\n        [  0],\n        [  0],\n        [  0],\n        [  0],\n        [  0],\n        [193],\n        [228],\n        [218],\n        [213],\n        [198],\n        [180],\n        [212],\n        [210],\n        [211],\n        [213],\n        [223],\n        [220],\n        [243],\n        [202],\n        [  0]],\n\n       [[  0],\n        [  0],\n        [  0],\n        [  0],\n        [  0],\n        [  0],\n        [  0],\n        [  0],\n        [  0],\n        [  1],\n        [  3],\n        [  0],\n        [ 12],\n        [219],\n        [220],\n        [212],\n        [218],\n        [192],\n        [169],\n        [227],\n        [208],\n        [218],\n        [224],\n        [212],\n        [226],\n        [197],\n        [209],\n        [ 52]],\n\n       [[  0],\n        [  0],\n        [  0],\n        [  0],\n        [  0],\n        [  0],\n        [  0],\n        [  0],\n        [  0],\n        [  0],\n        [  6],\n        [  0],\n        [ 99],\n        [244],\n        [222],\n        [220],\n        [218],\n        [203],\n        [198],\n        [221],\n        [215],\n        [213],\n        [222],\n        [220],\n        [245],\n        [119],\n        [167],\n        [ 56]],\n\n       [[  0],\n        [  0],\n        [  0],\n        [  0],\n        [  0],\n        [  0],\n        [  0],\n        [  0],\n        [  0],\n        [  4],\n        [  0],\n        [  0],\n        [ 55],\n        [236],\n        [228],\n        [230],\n        [228],\n        [240],\n        [232],\n        [213],\n        [218],\n        [223],\n        [234],\n        [217],\n        [217],\n        [209],\n        [ 92],\n        [  0]],\n\n       [[  0],\n        [  0],\n        [  1],\n        [  4],\n        [  6],\n        [  7],\n        [  2],\n        [  0],\n        [  0],\n        [  0],\n        [  0],\n        [  0],\n        [237],\n        [226],\n        [217],\n        [223],\n        [222],\n        [219],\n        [222],\n        [221],\n        [216],\n        [223],\n        [229],\n        [215],\n        [218],\n        [255],\n        [ 77],\n        [  0]],\n\n       [[  0],\n        [  3],\n        [  0],\n        [  0],\n        [  0],\n        [  0],\n        [  0],\n        [  0],\n        [  0],\n        [ 62],\n        [145],\n        [204],\n        [228],\n        [207],\n        [213],\n        [221],\n        [218],\n        [208],\n        [211],\n        [218],\n        [224],\n        [223],\n        [219],\n        [215],\n        [224],\n        [244],\n        [159],\n        [  0]],\n\n       [[  0],\n        [  0],\n        [  0],\n        [  0],\n        [ 18],\n        [ 44],\n        [ 82],\n        [107],\n        [189],\n        [228],\n        [220],\n        [222],\n        [217],\n        [226],\n        [200],\n        [205],\n        [211],\n        [230],\n        [224],\n        [234],\n        [176],\n        [188],\n        [250],\n        [248],\n        [233],\n        [238],\n        [215],\n        [  0]],\n\n       [[  0],\n        [ 57],\n        [187],\n        [208],\n        [224],\n        [221],\n        [224],\n        [208],\n        [204],\n        [214],\n        [208],\n        [209],\n        [200],\n        [159],\n        [245],\n        [193],\n        [206],\n        [223],\n        [255],\n        [255],\n        [221],\n        [234],\n        [221],\n        [211],\n        [220],\n        [232],\n        [246],\n        [  0]],\n\n       [[  3],\n        [202],\n        [228],\n        [224],\n        [221],\n        [211],\n        [211],\n        [214],\n        [205],\n        [205],\n        [205],\n        [220],\n        [240],\n        [ 80],\n        [150],\n        [255],\n        [229],\n        [221],\n        [188],\n        [154],\n        [191],\n        [210],\n        [204],\n        [209],\n        [222],\n        [228],\n        [225],\n        [  0]],\n\n       [[ 98],\n        [233],\n        [198],\n        [210],\n        [222],\n        [229],\n        [229],\n        [234],\n        [249],\n        [220],\n        [194],\n        [215],\n        [217],\n        [241],\n        [ 65],\n        [ 73],\n        [106],\n        [117],\n        [168],\n        [219],\n        [221],\n        [215],\n        [217],\n        [223],\n        [223],\n        [224],\n        [229],\n        [ 29]],\n\n       [[ 75],\n        [204],\n        [212],\n        [204],\n        [193],\n        [205],\n        [211],\n        [225],\n        [216],\n        [185],\n        [197],\n        [206],\n        [198],\n        [213],\n        [240],\n        [195],\n        [227],\n        [245],\n        [239],\n        [223],\n        [218],\n        [212],\n        [209],\n        [222],\n        [220],\n        [221],\n        [230],\n        [ 67]],\n\n       [[ 48],\n        [203],\n        [183],\n        [194],\n        [213],\n        [197],\n        [185],\n        [190],\n        [194],\n        [192],\n        [202],\n        [214],\n        [219],\n        [221],\n        [220],\n        [236],\n        [225],\n        [216],\n        [199],\n        [206],\n        [186],\n        [181],\n        [177],\n        [172],\n        [181],\n        [205],\n        [206],\n        [115]],\n\n       [[  0],\n        [122],\n        [219],\n        [193],\n        [179],\n        [171],\n        [183],\n        [196],\n        [204],\n        [210],\n        [213],\n        [207],\n        [211],\n        [210],\n        [200],\n        [196],\n        [194],\n        [191],\n        [195],\n        [191],\n        [198],\n        [192],\n        [176],\n        [156],\n        [167],\n        [177],\n        [210],\n        [ 92]],\n\n       [[  0],\n        [  0],\n        [ 74],\n        [189],\n        [212],\n        [191],\n        [175],\n        [172],\n        [175],\n        [181],\n        [185],\n        [188],\n        [189],\n        [188],\n        [193],\n        [198],\n        [204],\n        [209],\n        [210],\n        [210],\n        [211],\n        [188],\n        [188],\n        [194],\n        [192],\n        [216],\n        [170],\n        [  0]],\n\n       [[  2],\n        [  0],\n        [  0],\n        [  0],\n        [ 66],\n        [200],\n        [222],\n        [237],\n        [239],\n        [242],\n        [246],\n        [243],\n        [244],\n        [221],\n        [220],\n        [193],\n        [191],\n        [179],\n        [182],\n        [182],\n        [181],\n        [176],\n        [166],\n        [168],\n        [ 99],\n        [ 58],\n        [  0],\n        [  0]],\n\n       [[  0],\n        [  0],\n        [  0],\n        [  0],\n        [  0],\n        [  0],\n        [  0],\n        [ 40],\n        [ 61],\n        [ 44],\n        [ 72],\n        [ 41],\n        [ 35],\n        [  0],\n        [  0],\n        [  0],\n        [  0],\n        [  0],\n        [  0],\n        [  0],\n        [  0],\n        [  0],\n        [  0],\n        [  0],\n        [  0],\n        [  0],\n        [  0],\n        [  0]],\n\n       [[  0],\n        [  0],\n        [  0],\n        [  0],\n        [  0],\n        [  0],\n        [  0],\n        [  0],\n        [  0],\n        [  0],\n        [  0],\n        [  0],\n        [  0],\n        [  0],\n        [  0],\n        [  0],\n        [  0],\n        [  0],\n        [  0],\n        [  0],\n        [  0],\n        [  0],\n        [  0],\n        [  0],\n        [  0],\n        [  0],\n        [  0],\n        [  0]],\n\n       [[  0],\n        [  0],\n        [  0],\n        [  0],\n        [  0],\n        [  0],\n        [  0],\n        [  0],\n        [  0],\n        [  0],\n        [  0],\n        [  0],\n        [  0],\n        [  0],\n        [  0],\n        [  0],\n        [  0],\n        [  0],\n        [  0],\n        [  0],\n        [  0],\n        [  0],\n        [  0],\n        [  0],\n        [  0],\n        [  0],\n        [  0],\n        [  0]]], dtype=uint8)>"
     },
     "execution_count": 30,
     "metadata": {},
     "output_type": "execute_result"
    }
   ],
   "source": [
    "c[0]"
   ],
   "metadata": {
    "collapsed": false,
    "ExecuteTime": {
     "end_time": "2024-06-17T09:00:12.220619Z",
     "start_time": "2024-06-17T09:00:12.212680Z"
    }
   },
   "id": "3112774198f6ed90",
   "execution_count": 30
  },
  {
   "cell_type": "code",
   "outputs": [],
   "source": [],
   "metadata": {
    "collapsed": false
   },
   "id": "c5463358b065246",
   "execution_count": null
  },
  {
   "cell_type": "code",
   "outputs": [],
   "source": [],
   "metadata": {
    "collapsed": false
   },
   "id": "645f6583f549d9e8",
   "execution_count": null
  },
  {
   "cell_type": "code",
   "outputs": [],
   "source": [],
   "metadata": {
    "collapsed": false
   },
   "id": "6e13fcaca6467812"
  }
 ],
 "metadata": {
  "kernelspec": {
   "display_name": "Python 3 (ipykernel)",
   "language": "python",
   "name": "python3"
  },
  "language_info": {
   "codemirror_mode": {
    "name": "ipython",
    "version": 3
   },
   "file_extension": ".py",
   "mimetype": "text/x-python",
   "name": "python",
   "nbconvert_exporter": "python",
   "pygments_lexer": "ipython3",
   "version": "3.11.8"
  }
 },
 "nbformat": 4,
 "nbformat_minor": 5
}
